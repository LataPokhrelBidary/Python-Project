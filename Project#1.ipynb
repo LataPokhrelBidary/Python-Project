{
 "cells": [
  {
   "cell_type": "markdown",
   "metadata": {},
   "source": [
    "<h1 style='color:blue' align=center>Project#1</h1>"
   ]
  },
  {
   "cell_type": "code",
   "execution_count": 1,
   "metadata": {},
   "outputs": [],
   "source": [
    "# Student Name: Lata Pokhrel Bidary"
   ]
  },
  {
   "cell_type": "markdown",
   "metadata": {},
   "source": [
    "<b>Q#1:</b> Write a program that asks the user for the number of males and the number of females registered in a class. The program should display the percentage of males and females in the class. Then if the percentage of males are greater than the percentage of females, display a message indicating that \"There are more males\". Otherwise, display a message indicating that \"There are more females\".\n",
    "<br><br>Here is an example:\n",
    "\n",
    "<b><i>input:</i></b><br/>\n",
    "&nbsp;&nbsp;&nbsp;&nbsp;&nbsp;&nbsp;&nbsp;&nbsp;<span style=\"color:red\">What is the total number of females in your class:</span> <span style=\"color:blue\">60</span><br>\n",
    "&nbsp;&nbsp;&nbsp;&nbsp;&nbsp;&nbsp;&nbsp;&nbsp;<span style=\"color:red\">What is the total number of males in your class:</span> <span style=\"color:blue\">40</span>\n",
    "\n",
    "<b><i>output:</i></b><br/>\n",
    "&nbsp;&nbsp;&nbsp;&nbsp;&nbsp;&nbsp;&nbsp;&nbsp;Male Percentage: 40.0%<br/>\n",
    "&nbsp;&nbsp;&nbsp;&nbsp;&nbsp;&nbsp;&nbsp;&nbsp;Female Percentage: 60.0%<br/>\n",
    "&nbsp;&nbsp;&nbsp;&nbsp;&nbsp;&nbsp;&nbsp;&nbsp;There are more females\n",
    "\n",
    "<b>Important Notes:</b> \n",
    "<ol>\n",
    "    <li>Use a right function to get inputs from the user</li>\n",
    "    <li>Use meaningful names for your variables</li>\n",
    "    <li>Make sure the outputs have <b>one decimal place</b> and % sign .</li>\n",
    "</ol>"
   ]
  },
  {
   "cell_type": "code",
   "execution_count": 1,
   "metadata": {},
   "outputs": [
    {
     "name": "stdout",
     "output_type": "stream",
     "text": [
      "what is the total number of males in the class?40\n",
      "what is the total number of female in the class?30\n",
      "malePercentage:40.0%\n",
      "femalePercentage:30.0%\n",
      "There are more males\n"
     ]
    }
   ],
   "source": [
    "# Write Your Answer for Q#1 Over Here\n",
    "numMales = int(input('what is the total number of males in the class?'))\n",
    "numFemales = int(input('what is the total number of female in the class?'))\n",
    "\n",
    "print(f'malePercentage:{numMales/100:.1%}')\n",
    "print(f'femalePercentage:{numFemales/100:.1%}')\n",
    "\n",
    "if numMales > numFemales:\n",
    "    \n",
    "    print('There are more males')\n",
    "    \n",
    "else:\n",
    "  \n",
    "    print('There are more females')"
   ]
  },
  {
   "cell_type": "markdown",
   "metadata": {},
   "source": [
    "<b>Q#2</b> Write a program that computes the tax and tip on a restaurant bill. The program should ask the user to enter (input) the name of the waiter and the charge for the meal. The tax should be 4.75 percent of the meal charge. The tip should be 10 percent of the total after adding the tax. <br/><br/>  \n",
    "<b>Your code should display the waiter name, meal charge, tax amount, tip amount, and total bill on the screen.</b><br/> \n",
    "Here is a sample output:<br/> \n",
    "<br>\n",
    "<b><i>input:</i></b><br/>\n",
    "&nbsp;&nbsp;&nbsp;&nbsp;&nbsp;&nbsp;&nbsp;&nbsp;<span style=\"color:red\">Enter waiter name:</span> <span style=\"color:blue\">Alex</span><br>\n",
    "&nbsp;&nbsp;&nbsp;&nbsp;&nbsp;&nbsp;&nbsp;&nbsp;<span style=\"color:red\">Enter charge for meal:</span> <span style=\"color:blue\">51.00</span>\n",
    "\n",
    "<br>\n",
    "<b><i>output:</i></b><br/>\n",
    "&nbsp;&nbsp;&nbsp;&nbsp;&nbsp;&nbsp;&nbsp;&nbsp;<span style=\"color:black\">Waiter Name: </span> <span style=\"color:black\">Alex</span><br>\n",
    "&nbsp;&nbsp;&nbsp;&nbsp;&nbsp;&nbsp;&nbsp;&nbsp;<span style=\"color:black\">Meal Charge: </span> <span style=\"color:black\">\\$ 51.00</span><br>\n",
    "&nbsp;&nbsp;&nbsp;&nbsp;&nbsp;&nbsp;&nbsp;&nbsp;<span style=\"color:black\">Tax: </span> <span style=\"color:black\">\\$ 2.42</span><br>\n",
    "&nbsp;&nbsp;&nbsp;&nbsp;&nbsp;&nbsp;&nbsp;&nbsp;<span style=\"color:black\">Tip: </span> <span style=\"color:black\">\\$ 5.34</span><br>\n",
    "&nbsp;&nbsp;&nbsp;&nbsp;&nbsp;&nbsp;&nbsp;&nbsp;<span style=\"color:black\">Total Bill: </span> <span style=\"color:black\">\\$ 58.76</span>\n",
    "\n",
    "\n",
    "<br/>\n",
    "<br/>\n",
    "<b>Important Notes:</b> \n",
    "<ol>\n",
    "    <li>Use a right function to get inputs from the user</li>\n",
    "    <li>Make sure to keep variables in a correct <b>type</b> (i.e. int, float, str)</li>\n",
    "    <li>Use meaningful names for your variables</li>\n",
    "    <li>Use correct operations to compute new variables</li>\n",
    "    <li>Make sure you display the output values with <b>2 decimal places</b>.</li>\n",
    "    <li>Make sure you display the \\$ in output values.</li>\n",
    "</ol>"
   ]
  },
  {
   "cell_type": "code",
   "execution_count": 24,
   "metadata": {},
   "outputs": [
    {
     "name": "stdout",
     "output_type": "stream",
     "text": [
      "What is your name? Tom\n",
      "What is the cost for the meal? 51\n",
      "Waiter name: Tom\n",
      "Charge of meal:$ 51.0\n",
      "Tax: $ 2.42\n",
      "Tip: $ 5.34\n",
      "Total: $ 58.76\n"
     ]
    }
   ],
   "source": [
    "# Write Your Answer for Q#2 Over Here\n",
    "waiterName = str(input('What is your name? '))\n",
    "mealCharge = float(input('What is the cost for the meal? '))\n",
    "\n",
    "tax = (mealCharge*4.75/100)\n",
    "tip = (tax+mealCharge)*.1\n",
    "total = (mealCharge+tax+tip)\n",
    "\n",
    "print('Waiter name:',waiterName)\n",
    "print('Charge of meal:$',mealCharge)\n",
    "print(f'Tax: ${tax: .2f}')\n",
    "print(f'Tip: ${tip: .2f}')\n",
    "print(f'Total: ${total: .2f}')"
   ]
  },
  {
   "cell_type": "markdown",
   "metadata": {},
   "source": [
    "<b>Q#3:</b> Write a program that asks the user to enter an value between <b style='color:blue'>0</b> and <b style='color:blue'>150</b>. The program must calculate the remainder of the division of the input number by 4 and display it in an alphabetical format. The program must display an error message if the user enters a value that is not within the specified range. \n",
    "<br/>\n",
    "<br/>\n",
    "Here are three examples:\n",
    "\n",
    "<b><i>input:</i></b><br/>\n",
    "&nbsp;&nbsp;&nbsp;&nbsp;&nbsp;&nbsp;&nbsp;&nbsp;<span style=\"color:red\">Enter a value between 0 and 150:</span> <span style=\"color:blue\">175</span><br>\n",
    "\n",
    "<b><i>output:</i></b><br/>\n",
    "&nbsp;&nbsp;&nbsp;&nbsp;&nbsp;&nbsp;&nbsp;&nbsp;<span style=\"color:black\">The number is not in the range 0-150</span><br>\n",
    "\n",
    "\n",
    "<b><i>input:</i></b><br/>\n",
    "&nbsp;&nbsp;&nbsp;&nbsp;&nbsp;&nbsp;&nbsp;&nbsp;<span style=\"color:red\">Enter a value between 0 and 150:</span> <span style=\"color:blue\">80</span><br>\n",
    "\n",
    "\n",
    "<b><i>output:</i></b><br/>\n",
    "&nbsp;&nbsp;&nbsp;&nbsp;&nbsp;&nbsp;&nbsp;&nbsp;<span style=\"color:black\">The reminder of division of 80 by 4 is zero</span><br>\n",
    "\n",
    "<b><i>input:</i></b><br/>\n",
    "&nbsp;&nbsp;&nbsp;&nbsp;&nbsp;&nbsp;&nbsp;&nbsp;<span style=\"color:red\">Enter a value between 0 and 150:</span> <span style=\"color:blue\">23</span><br>\n",
    "\n",
    "\n",
    "<b><i>output:</i></b><br/>\n",
    "&nbsp;&nbsp;&nbsp;&nbsp;&nbsp;&nbsp;&nbsp;&nbsp;<span style=\"color:black\">The reminder of division of 23 by 4 is three</span><br>\n",
    "\n",
    "\n",
    "<b>Important Notes:</b> \n",
    "<ol>\n",
    "    <li>Use a right function to get inputs from the user</li>\n",
    "    <li>Use if-else or if-elif-else structure to answer this question.</li>\n",
    "    <li>Use meaningful names for your variables</li>\n",
    "    <li>The remainder of division to 4 can only be 0, 1, 2, or 3</li>\n",
    "</ol>\n",
    "\n"
   ]
  },
  {
   "cell_type": "code",
   "execution_count": 1,
   "metadata": {},
   "outputs": [
    {
     "name": "stdout",
     "output_type": "stream",
     "text": [
      "Insert the number between 0-150:80\n",
      "The remainder of division of 80.0 is Zero\n"
     ]
    }
   ],
   "source": [
    "# Write Your Answer for Q#3 Over Here\n",
    "value = float(input('Insert the number between 0-150:'))\n",
    "remainder = (value%4)\n",
    "\n",
    "if value < 0 and value > 150:\n",
    "    print('The number is not in range')\n",
    "    \n",
    "else:\n",
    "    print('The remainder of division of',value, 'is Zero' )\n",
    "    "
   ]
  },
  {
   "cell_type": "markdown",
   "metadata": {},
   "source": [
    "##### <b>Q#4:</b> Last month, Joe purchased some stock in ABC Software, Inc. Here are the details of the purchase:\n",
    "<br>\n",
    "<ul>\n",
    "    <li>The number of shares that Joe purchased was 4,000.</li>\n",
    "    <li>When Joe purchased the stock, he paid \\$46.00 per share</li>\n",
    "    <li>Joe paid his stockbroker a commission that amounted to 3 percent of the amount he paid for the stock.</li>\n",
    "</ul>\n",
    "<br>\n",
    "Two weeks later, Joe sold the stock. Here are the details of the sale:\n",
    "<ul>\n",
    "    <li>The number of shares that Joe sold was 4,000.</li>\n",
    "    <li>He sold the stock for \\$48.75 per share</li>\n",
    "    <li>He paid his stockbroker another commission that amounted to 3 percent of the amount he received for the stock.</li>\n",
    "</ul>\n",
    "\n",
    "Write a program that displays the following information\n",
    "<ol>\n",
    "    <li>The amount of money Joe paid for the stock.</li>\n",
    "    <li>The amount of commission Joe paid his broker when he bought the stock.</li>\n",
    "    <li>The amount for which Joe sold the stock.</li>\n",
    "    <li>The amount of commission Joe paid his broker when he sold the stock.</li>\n",
    "    <li>The amount of money that Joe had left when he sold the stock and paid his\n",
    "        broker (both times).</li>\n",
    "    <li> If this amount is positive, then display \"Joe made a profit\". else if the amount is negative, then display \"Joe lost money.\" (<b>Note:</b> Use if-else structure)</li>\n",
    "</ol>\n",
    "\n",
    "\n",
    "<b>Important Notes:</b> \n",
    "<ol>\n",
    "    <li>There is no input in this question</li>\n",
    "    <li>All the computations should be performed in your program.</li>\n",
    "    <li>Use meaningful names for your variables</li>\n",
    "    <li>Make sure to display all the requested values in a well structured format.</li>\n",
    "</ol>"
   ]
  },
  {
   "cell_type": "code",
   "execution_count": 7,
   "metadata": {},
   "outputs": [
    {
     "name": "stdout",
     "output_type": "stream",
     "text": [
      "The amount of money joe paid for stock: $ 184000\n",
      "The amount of commission Joe paid his broker when he bought the stock: $ 5520.0\n",
      "The amount for which Joe sold the stock: $ 195000.0\n",
      "The amount of commission Joe paid his broker when he sold the stock: $ 5850.0\n",
      "The amount of money that Joe had left when he purchase the stock is: $ 178480.0\n",
      "The amount of money that Joe had left when he sold the stock is: $ 189150.0\n",
      "Joe made a loss:$ -370.0\n"
     ]
    }
   ],
   "source": [
    "# Write Your Answer for Q#4 Over Here\n",
    "numOfStock = 4000\n",
    "purchasePricePerStock= 46\n",
    "\n",
    "totalAmtPurchase = (numOfStock * purchasePricePerStock)\n",
    "commission = (totalAmtPurchase*0.03)\n",
    "print('The amount of money joe paid for stock: $',totalAmtPurchase)\n",
    "print('The amount of commission Joe paid his broker when he bought the stock: $',commission)\n",
    "\n",
    "soldPricePerStock = 48.75\n",
    "totalAmtSold = (numOfStock*soldPricePerStock)\n",
    "commissionS = (totalAmtSold*0.03)\n",
    "print('The amount for which Joe sold the stock: $',totalAmtSold)\n",
    "print('The amount of commission Joe paid his broker when he sold the stock: $',commissionS)\n",
    "\n",
    "moneyForBrokerP = (totalAmtPurchase - commission)\n",
    "print('The amount of money that Joe had left when he purchase the stock is: $',moneyForBrokerP)\n",
    "moneyForBrokerS = (totalAmtSold - commissionS)\n",
    "print('The amount of money that Joe had left when he sold the stock is: $',moneyForBrokerS)\n",
    "\n",
    "returns = ((totalAmtSold - commissionS) - (totalAmtPurchase + commission)) #(commissionS + commission))\n",
    "\n",
    "if returns <= 0:\n",
    "    print('Joe made a loss:$',returns)\n",
    "else:\n",
    "    print('Joe made a profit')\n"
   ]
  },
  {
   "cell_type": "markdown",
   "metadata": {},
   "source": [
    "<b>Q#5:</b> Write a program to get two inputs from the user. If both numbers are more than 14, dispaly the following message, \"both input numbers are greater than 14\" if only one of the numbers is more than 14, then display the following message, \"only one input number is greater than 14\" else display \"none of the input values is greater than 14\".\n",
    "\n",
    "<b>Important Notes:</b> \n",
    "<ol>\n",
    "    <li>Use meaningful names for your variables</li>\n",
    "    <li>Use if-elif-else structure.</li>\n",
    "    <li>Use logical operators in your code.</li>\n",
    "</ol>"
   ]
  },
  {
   "cell_type": "code",
   "execution_count": 58,
   "metadata": {},
   "outputs": [
    {
     "name": "stdout",
     "output_type": "stream",
     "text": [
      "what is your first number25\n",
      "what is your second number46\n",
      "Both input numbers are greater than 14\n"
     ]
    }
   ],
   "source": [
    "# Write Your Answer for Q#5 Over Here\n",
    "number1 = float(input('what is your first number'))\n",
    "number2 = float(input('what is your second number'))\n",
    "\n",
    "if number1 > 14 and number2 > 14:\n",
    "    print('Both input numbers are greater than 14')\n",
    "elif number1 > 14 or number2 > 14:\n",
    "    print('only one input number is greater than 14')\n",
    "else:\n",
    "    print('none of the input values is greater than 14')"
   ]
  }
 ],
 "metadata": {
  "kernelspec": {
   "display_name": "Python 3",
   "language": "python",
   "name": "python3"
  },
  "language_info": {
   "codemirror_mode": {
    "name": "ipython",
    "version": 3
   },
   "file_extension": ".py",
   "mimetype": "text/x-python",
   "name": "python",
   "nbconvert_exporter": "python",
   "pygments_lexer": "ipython3",
   "version": "3.8.8"
  }
 },
 "nbformat": 4,
 "nbformat_minor": 4
}
