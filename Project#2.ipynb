{
 "cells": [
  {
   "cell_type": "markdown",
   "metadata": {},
   "source": [
    "<h1 style='color:blue' align=center>Project#2</h1>"
   ]
  },
  {
   "cell_type": "code",
   "execution_count": 1,
   "metadata": {},
   "outputs": [],
   "source": [
    "# Student Name: <Lata Pokhrel Bidary>"
   ]
  },
  {
   "cell_type": "markdown",
   "metadata": {},
   "source": [
    "<b>Q#1</b> Write a program that utilizes the loop structure to keep asking the user to enter a new number and stop asking when the user enters the number 0. The program should calculate the sum of all the numbers collected and display the sum value to the user.\n",
    "\n",
    "<br>Here is an example:\n",
    "\n",
    "<b><i>input:</i></b><br/>\n",
    "&nbsp;&nbsp;&nbsp;&nbsp;&nbsp;&nbsp;&nbsp;&nbsp;<span style=\"color:red\">Please input a number (enter 0 if you want to stop the program):</span> <span style=\"color:blue\">20</span><br>\n",
    "&nbsp;&nbsp;&nbsp;&nbsp;&nbsp;&nbsp;&nbsp;&nbsp;<span style=\"color:red\">Please input a number (enter 0 if you want to stop the program):</span> <span style=\"color:blue\">33</span><br>\n",
    "&nbsp;&nbsp;&nbsp;&nbsp;&nbsp;&nbsp;&nbsp;&nbsp;<span style=\"color:red\">Please input a number (enter 0 if you want to stop the program):</span> <span style=\"color:blue\">0</span><br>\n",
    "\n",
    "<b><i>output:</i></b><br/>\n",
    "&nbsp;&nbsp;&nbsp;&nbsp;&nbsp;&nbsp;&nbsp;&nbsp; The sum of entered numbers is : 53"
   ]
  },
  {
   "cell_type": "code",
   "execution_count": null,
   "metadata": {},
   "outputs": [],
   "source": [
    "\n",
    "sum = 0\n",
    "num = int(input('Enter your new number other than 0? '))\n",
    "    \n",
    "while (num != 0):\n",
    "     \n",
    "    sum += num\n",
    "    num = int(input('Enter your another number other than 0? '))\n",
    "        \n",
    "print('The sum of the entered numbers are: ', sum)\n",
    "        \n",
    "    "
   ]
  },
  {
   "cell_type": "markdown",
   "metadata": {},
   "source": [
    "<b>Q#2</b> John is an IT graduate working as an intern for ABC company. He receives a weekly payment for his work. Your job is to write a program that asks the user about John's payment amount, and then collect the total weeks that John has worked for the company. The program should then use the loop structure to create a table showing the total amount that John received from the company at the end of each week.  \n",
    "\n",
    "\n",
    "<br>Here is an example:\n",
    "\n",
    "<b><i>input:</i></b><br/>\n",
    "&nbsp;&nbsp;&nbsp;&nbsp;&nbsp;&nbsp;&nbsp;&nbsp;<span style=\"color:red\">What's the amount of John's weekly payment:</span> <span style=\"color:blue\">300</span><br>\n",
    "&nbsp;&nbsp;&nbsp;&nbsp;&nbsp;&nbsp;&nbsp;&nbsp;<span style=\"color:red\">How many weeks John worked for the company:</span> <span style=\"color:blue\">5</span><br>\n",
    "\n",
    "<b><i>output:</i></b><br/>\n",
    "Week &emsp;&emsp;&emsp;&emsp;&emsp;&emsp;&emsp;&emsp;&emsp;&emsp;&emsp;&emsp;Total Salary\n",
    "<br>-\\---------------------------------------------\n",
    "<br>\n",
    "1 &nbsp;&nbsp;&nbsp;&emsp;&emsp;&emsp;&emsp;&emsp;&emsp;&emsp;&emsp;&emsp;&emsp;&emsp;&emsp;&emsp;&emsp; \\\\$300 \n",
    "<br> \n",
    "2 &nbsp;&nbsp;&nbsp;&nbsp;&emsp;&emsp;&emsp;&emsp;&emsp;&emsp;&emsp;&emsp;&emsp;&emsp;&emsp;&emsp;&emsp;&emsp;\\\\$600\n",
    "<br> \n",
    "3 &nbsp;&nbsp;&nbsp;&nbsp;&emsp;&emsp;&emsp;&emsp;&emsp;&emsp;&emsp;&emsp;&emsp;&emsp;&emsp;&emsp;&emsp;&emsp;\\\\$900\n",
    "<br> \n",
    "4 &nbsp;&nbsp;&nbsp;&nbsp;&emsp;&emsp;&emsp;&emsp;&emsp;&emsp;&emsp;&emsp;&emsp;&emsp;&emsp;&emsp;&emsp;&emsp;\\\\$1200\n",
    "<br> \n",
    "5 &nbsp;&nbsp;&nbsp;&nbsp;&emsp;&emsp;&emsp;&emsp;&emsp;&emsp;&emsp;&emsp;&emsp;&emsp;&emsp;&emsp;&emsp;&emsp;\\\\$1500"
   ]
  },
  {
   "cell_type": "code",
   "execution_count": 5,
   "metadata": {},
   "outputs": [
    {
     "name": "stdout",
     "output_type": "stream",
     "text": [
      "What's the amount of John's weekly payment: 200\n",
      "How many weeks John worked for the company: 5\n",
      "Week \t Total Salary\n",
      "--------------------\n",
      "1 \t         200\n",
      "2 \t         400\n",
      "3 \t         600\n",
      "4 \t         800\n",
      "5 \t         1000\n"
     ]
    }
   ],
   "source": [
    "# Write Your Answer for Q#2 Over Here\n",
    "pay=int(input(\"What's the amount of John's weekly payment: \"))\n",
    "\n",
    "weeks=int(input(\"How many weeks John worked for the company: \"))\n",
    "print(\"Week \\t Total Salary\")\n",
    "print(\"--------------------\")\n",
    "\n",
    "total=pay\n",
    "for i in range(1,weeks+1):\n",
    "        print(i,'\\t        ',total)\n",
    "       \n",
    "        total=total+pay\n",
    "    \n",
    "\n"
   ]
  },
  {
   "cell_type": "markdown",
   "metadata": {},
   "source": [
    "<b>Q#3</b> Use the loop structure to write a program that receives 5 positive numbers from the user and calculates the sum of all odd numbers.\n",
    "\n",
    "<br>Here is an example:\n",
    "\n",
    "<b><i>input:</i></b><br/>\n",
    "&nbsp;&nbsp;&nbsp;&nbsp;&nbsp;&nbsp;&nbsp;&nbsp;<span style=\"color:red\">Please input number 1:</span> <span style=\"color:blue\">23</span><br>\n",
    "&nbsp;&nbsp;&nbsp;&nbsp;&nbsp;&nbsp;&nbsp;&nbsp;<span style=\"color:red\">Please input number 2:</span> <span style=\"color:blue\">11</span><br>\n",
    "&nbsp;&nbsp;&nbsp;&nbsp;&nbsp;&nbsp;&nbsp;&nbsp;<span style=\"color:red\">Please input number 3:</span> <span style=\"color:blue\">12</span><br>\n",
    "&nbsp;&nbsp;&nbsp;&nbsp;&nbsp;&nbsp;&nbsp;&nbsp;<span style=\"color:red\">Please input number 4:</span> <span style=\"color:blue\">17</span><br>\n",
    "&nbsp;&nbsp;&nbsp;&nbsp;&nbsp;&nbsp;&nbsp;&nbsp;<span style=\"color:red\">Please input number 5:</span> <span style=\"color:blue\">26</span><br>\n",
    "\n",
    "<b><i>output:</i></b><br/>\n",
    "The sum of the odd numbers entered by user is equal to: 51 "
   ]
  },
  {
   "cell_type": "code",
   "execution_count": 6,
   "metadata": {},
   "outputs": [
    {
     "name": "stdout",
     "output_type": "stream",
     "text": [
      "Enter a positive number: 2\n",
      "Enter a positive number: 3\n",
      "Enter a positive number: 4\n",
      "Enter a positive number: 5\n",
      "Enter a positive number: 6\n",
      "The sum of the odd numbers entered by user is equal to:  8\n"
     ]
    }
   ],
   "source": [
    "# Write Your Answer for Q#3 Over Here\n",
    "sum=0\n",
    "for i in range(0,5):\n",
    "    num = int(input(\"Enter a positive number: \"))\n",
    "    if(num%2!=0):\n",
    "        sum = sum+num\n",
    "\n",
    "print(\"The sum of the odd numbers entered by user is equal to: \",sum)"
   ]
  },
  {
   "cell_type": "markdown",
   "metadata": {},
   "source": [
    "<b>Q#4</b> Write a program that uses the nested loop to calculate the multiplication of numbers between 11 and 15. It is important that your program avoids the calculation of repeated multiplications (for example 11x12 and 12x11).\n",
    "\n",
    "<br/>\n",
    "\n",
    "<b><i>output:</i></b><br/>\n",
    "11 x 11 = 121 <br>\n",
    "11 x 12 = 132 <br>\n",
    "11 x 13 = 143 <br>\n",
    "11 x 14 = 154 <br>\n",
    "11 x 15 = 165 <br>\n",
    "12 x 12 = 144 <br>\n",
    ". <br>\n",
    ". <br>\n",
    ". <br>\n",
    "14 x 14 = 196 <br>\n",
    "14 x 15 = 210 <br>\n",
    "15 x 15 = 225 <br>"
   ]
  },
  {
   "cell_type": "code",
   "execution_count": 7,
   "metadata": {},
   "outputs": [
    {
     "name": "stdout",
     "output_type": "stream",
     "text": [
      "11 x 11 = 121\n",
      "11 x 12 = 132\n",
      "11 x 13 = 143\n",
      "11 x 14 = 154\n",
      "11 x 15 = 165\n",
      "12 x 12 = 144\n",
      "12 x 13 = 156\n",
      "12 x 14 = 168\n",
      "12 x 15 = 180\n",
      "13 x 13 = 169\n",
      "13 x 14 = 182\n",
      "13 x 15 = 195\n",
      "14 x 14 = 196\n",
      "14 x 15 = 210\n",
      "15 x 15 = 225\n"
     ]
    }
   ],
   "source": [
    "# Write Your Answer for Q#4 Over Here\n",
    "for i in range(11,16):\n",
    "    for j in range(i,16):\n",
    "        print(i ,'x',j ,'=' ,i*j)"
   ]
  },
  {
   "cell_type": "markdown",
   "metadata": {},
   "source": [
    "<b>Q#5</b> Write a program that asks the user to enter an anumber between 1 and 36, and then compare it to a randomly generated integer number between 1 and 36. If two numbers are equal, the program should display \"WIN\", otherwise it should display \"LOSE\" and then show the randomly generated number. Your program should contain the following functions:\n",
    "<ol>\n",
    "    <li>A function that generates an integer number between 1 and 36</li>\n",
    "    <li>A function that computes number entered by user and randomly generated number and display the right message.</li>\n",
    "    <li>A <span style='color:blue'>main( )</span> function that keeps asking the user to enter a number between 1-36 and uses the two functions above to report whether or not the user wins the game. If the user enters 0, the program should stop asking for a new number.</li>\n",
    "</ol>\n",
    "\n",
    "<br>Here is an example:\n",
    "\n",
    "<b><i>input:</i></b><br/>\n",
    "&nbsp;&nbsp;&nbsp;&nbsp;&nbsp;&nbsp;&nbsp;&nbsp;<span style=\"color:red\">Please enter a number between 1 and 36 (enter 0 to stop the program):</span> <span style=\"color:blue\">12</span><br>\n",
    "\n",
    "<b><i>output:</i></b><br/>\n",
    "\"LOSE\", the winner number is 22 <br/>\n",
    "\n",
    "<b><i>input:</i></b><br/>\n",
    "&nbsp;&nbsp;&nbsp;&nbsp;&nbsp;&nbsp;&nbsp;&nbsp;<span style=\"color:red\">Please enter a number between 1 and 36 (enter 0 to stop the program):</span> <span style=\"color:blue\">1</span><br>\n",
    "\n",
    "<b><i>output:</i></b><br/>\n",
    "\"LOSE\", the winner number is 36 <br/>\n",
    "\n",
    "<b><i>input:</i></b><br/>\n",
    "&nbsp;&nbsp;&nbsp;&nbsp;&nbsp;&nbsp;&nbsp;&nbsp;<span style=\"color:red\">Please enter a number between 1 and 36 (enter 0 to stop the program):</span> <span style=\"color:blue\">10</span><br>\n",
    "\n",
    "<b><i>output:</i></b><br/>\n",
    "\"WIN\"<br/>\n",
    "\n",
    "<b><i>input:</i></b><br/>\n",
    "&nbsp;&nbsp;&nbsp;&nbsp;&nbsp;&nbsp;&nbsp;&nbsp;<span style=\"color:red\">Please enter a number between 1 and 36 (enter 0 to stop the program):</span> <span style=\"color:blue\">0</span><br>\n",
    "\n",
    "<b><i>output:</i></b><br/>\n",
    "Thank You!<br/>\n",
    "\n",
    "\n",
    "<b>Note:</b> Since the numbers are generated randomly, your output will be different from the example above."
   ]
  },
  {
   "cell_type": "code",
   "execution_count": 5,
   "metadata": {},
   "outputs": [
    {
     "name": "stdout",
     "output_type": "stream",
     "text": [
      "Enter a number between 1and 36: 5\n",
      "Lose, the winner number is  21\n",
      "Enter a number between 1and 36: 21\n",
      "Lose, the winner number is  12\n",
      "Enter a number between 1and 36: 22\n",
      "Lose, the winner number is  13\n",
      "Enter a number between 1and 36: 14\n",
      "Lose, the winner number is  21\n",
      "Enter a number between 1and 36: 26\n",
      "Lose, the winner number is  19\n",
      "Enter a number between 1and 36: 19\n",
      "Win\n",
      "Enter a number between 1and 36: 0\n",
      "Thank You\n"
     ]
    }
   ],
   "source": [
    "# Write Your Answer for Q#5 Over Here\n",
    "import random\n",
    "\n",
    "\n",
    "def rand_generator():\n",
    "    randint = random.randint(1,36)\n",
    "    return randint\n",
    "    \n",
    "\n",
    "def compute_num(num,randint):\n",
    "    \n",
    "    if (num != randint):\n",
    "        print(\"Lose, the winner number is \", randint)\n",
    "    else:\n",
    "        print(\"Win\")\n",
    "    \n",
    "def main():\n",
    "    \n",
    "    num = int(input('Enter a number between 1and 36: '))\n",
    "    while num != 0:\n",
    "    \n",
    "        randint = rand_generator()\n",
    "        compute_num(num, randint)\n",
    "    \n",
    "        num = int(input('Enter a number between 1and 36: '))\n",
    "    \n",
    "\n",
    "main()\n",
    "print(\"Thank You\")"
   ]
  },
  {
   "cell_type": "markdown",
   "metadata": {},
   "source": [
    "<b>Q#6</b> Write a program that contains following functions:\n",
    "<ol>\n",
    "    <li>Define function <span style='color:blue'>rand_generator( )</span> that generates a random integer number between 1-200 and <span style='color:red'>return</span> it.</li>\n",
    "    <li>Define function <span style='color:blue'>check_odd( )</span> that gets a number as an input paramter and <span style='color:red'>return</span> True if the input parameter is an odd number and <span style='color:red'>return</span> False otherwise.</li>\n",
    "    <li>Define a function <span style='color:blue'>main( )</span> that first asks the user how many random numbers should be generated and then uses the above two functions to generate and then count the total number of odd numbers and even numbers in the set of randomly generated numbers and display them to user.</li>\n",
    "</ol>\n",
    "\n",
    "<br>Here is an example:\n",
    "\n",
    "<b><i>input:</i></b><br/>\n",
    "&nbsp;&nbsp;&nbsp;&nbsp;&nbsp;&nbsp;&nbsp;&nbsp;<span style=\"color:red\">Please specify how many random number should be generated:</span> <span style=\"color:blue\">50</span><br>\n",
    "\n",
    "\n",
    "<b><i>output:</i></b><br/>\n",
    "There are 23 odd numbers in 50 randomly generated numbers. <br/>\n",
    "There are 27 even numbers in 50 randomly generated numbers."
   ]
  },
  {
   "cell_type": "code",
   "execution_count": 12,
   "metadata": {},
   "outputs": [
    {
     "name": "stdout",
     "output_type": "stream",
     "text": [
      "How many random number should be generated? 5\n",
      "There are 2 odd numbers in 5 randomly generated numbers\n",
      "There are 3 even numbers in 5 randomly generated numbers\n"
     ]
    }
   ],
   "source": [
    "# Write Your Answer for Q#6 Over Here\n",
    "import random\n",
    "def rand_generator():\n",
    "    rand = random.randint(1,200)\n",
    "    return rand\n",
    "    \n",
    "def check_odd(num):\n",
    "    if(num % 2 == 1):\n",
    "        return True\n",
    "    else:\n",
    "        return False\n",
    "def main():\n",
    "    numbers = int(input('How many random number should be generated? '))\n",
    "    odd_number = 0\n",
    "    even_number = 0\n",
    "    for i in range(0,numbers):\n",
    "        num = rand_generator()\n",
    "        \n",
    "\n",
    "        if (check_odd(num) == True):\n",
    "            odd_number += 1\n",
    "        \n",
    "        else:\n",
    "            even_number += 1 \n",
    "        \n",
    "    \n",
    "    print('There are',odd_number,'odd numbers in',numbers,'randomly generated numbers')\n",
    "    print('There are',even_number,'even numbers in',numbers,'randomly generated numbers')\n",
    "\n",
    "main()"
   ]
  },
  {
   "cell_type": "markdown",
   "metadata": {},
   "source": [
    "<b>Q#7</b> George plans to invest his money in an investment program that gives him a fixed interest every month. Your job is to write a program that calculates the future value of his money using the following formula:\n",
    "\n",
    "$$ F = P\\times (1 + i)^t $$\n",
    "\n",
    "Where, \n",
    "<ul>\n",
    "    <li><b>F</b> is the future value of the invested money.</li>\n",
    "    <li><b>P</b> is the amount of money that George plans to invest.</li>\n",
    "    <li><b>i</b> is the monthly interest rate. It should be between 0 and 1.</li>\n",
    "    <li><b>t</b> is the number of month that George plans to keep his money invested.</li>\n",
    "</ul>\n",
    "\n",
    "Instruction:\n",
    "<ol>\n",
    "    <li>Write a function that gets <b>P</b>, <b>i</b>, <b>t</b> and displays the future value of money.</li>\n",
    "    <li>Write a <span style='color:blue'>main( )</span> function that asks user to enter <b>P</b>, <b>i</b>, <b>t</b> and uses the above function to display future value. Verify that the interest rate be between 0 and one. if not keep asking the user to enter a correct number.</li>\n",
    "</ol>\n",
    "\n",
    "<br>Here is an example:\n",
    "\n",
    "<b><i>input:</i></b><br/>\n",
    "&nbsp;&nbsp;&nbsp;&nbsp;&nbsp;&nbsp;&nbsp;&nbsp;<span style=\"color:red\">Please enter the amount of money that you plan to invest:</span> <span style=\"color:blue\">1000</span><br>\n",
    "&nbsp;&nbsp;&nbsp;&nbsp;&nbsp;&nbsp;&nbsp;&nbsp;<span style=\"color:red\">Please enter the monthly interest rate (a value between 0 and 1):</span> <span style=\"color:blue\">.02</span><br>\n",
    "&nbsp;&nbsp;&nbsp;&nbsp;&nbsp;&nbsp;&nbsp;&nbsp;<span style=\"color:red\">Please enter the total number of months that you plan to keep your money invested:</span> <span style=\"color:blue\">10</span><br>\n",
    "\n",
    "\n",
    "<b><i>output:</i></b><br/>\n",
    "The future value of your money is: 1218.9944199947574"
   ]
  },
  {
   "cell_type": "code",
   "execution_count": 9,
   "metadata": {},
   "outputs": [
    {
     "name": "stdout",
     "output_type": "stream",
     "text": [
      "How much amount you george want to invest? 100\n",
      "What is the interest rate? .02\n",
      "How many months George want to invest? 10\n",
      "The future value of your money is:  121.89944199947573\n"
     ]
    }
   ],
   "source": [
    "# Write Your Answer for Q#7 Over Here\n",
    "def fv(p,i,t):\n",
    "    future_amt = p*(1+i)**t\n",
    "    return future_amt\n",
    "\n",
    "def main():\n",
    "    p = float(input('How much amount you george want to invest? '))\n",
    "    i = float(input('What is the interest rate? '))\n",
    "    t = float(input('How many months George want to invest? '))\n",
    "    \n",
    "    future_amt = fv(p,i,t)\n",
    "    print('The future value of your money is: ',future_amt)\n",
    "\n",
    "main()"
   ]
  },
  {
   "cell_type": "markdown",
   "metadata": {},
   "source": [
    "<b>Q#8</b> Create a file named square.py, and add two functions to the file that calculates the area and perimeter of a square using its edge size. Next, use <span style='color:red'><b>import</b></span> command to import the functions into your environment. Finally, write a program that asks the user to enter the edge size of the square and then use the created functions in square.py to display the area and perimeter of the square. \n",
    "\n",
    "<br>Here is an example:\n",
    "\n",
    "<b><i>input:</i></b><br/>\n",
    "&nbsp;&nbsp;&nbsp;&nbsp;&nbsp;&nbsp;&nbsp;&nbsp;<span style=\"color:red\">Please enter the edge size of the square:</span> <span style=\"color:blue\">5</span><br>\n",
    "\n",
    "\n",
    "<b><i>output:</i></b><br/>\n",
    "The area of the square is 25 <br>\n",
    "The perimeter of the square is 20"
   ]
  },
  {
   "cell_type": "code",
   "execution_count": 1,
   "metadata": {
    "scrolled": true
   },
   "outputs": [
    {
     "name": "stdout",
     "output_type": "stream",
     "text": [
      "What is the size of the square? 6\n",
      "The total area of the square is: 36\n",
      "The total area of the perimeter is:24\n"
     ]
    }
   ],
   "source": [
    "# Write Your Answer for Q#8 Over Here\n",
    "import square\n",
    "\n",
    "\n",
    "def main():\n",
    "\n",
    "\n",
    "    size = int(input(\"What is the size of the square? \"))\n",
    "    print('The total area of the square is: ' + str(square.area(size)))\n",
    "    print('The total area of the perimeter is:' + str (square.perimeter(size)))\n",
    "    \n",
    "if __name__=='__main__':\n",
    "\n",
    "    main()"
   ]
  }
 ],
 "metadata": {
  "kernelspec": {
   "display_name": "Python 3",
   "language": "python",
   "name": "python3"
  },
  "language_info": {
   "codemirror_mode": {
    "name": "ipython",
    "version": 3
   },
   "file_extension": ".py",
   "mimetype": "text/x-python",
   "name": "python",
   "nbconvert_exporter": "python",
   "pygments_lexer": "ipython3",
   "version": "3.8.8"
  }
 },
 "nbformat": 4,
 "nbformat_minor": 4
}
