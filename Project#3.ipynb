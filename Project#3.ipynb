{
 "cells": [
  {
   "cell_type": "markdown",
   "metadata": {},
   "source": [
    "<h1 style='color:blue' align=center>Project#3</h1>"
   ]
  },
  {
   "cell_type": "code",
   "execution_count": null,
   "metadata": {},
   "outputs": [],
   "source": [
    "# Student Name: <Lata Pokhrel Bidary>"
   ]
  },
  {
   "cell_type": "markdown",
   "metadata": {},
   "source": [
    "<b>Q#1</b> Write a program that reads all of the numbers stored in `Numbers.txt` file, The following instruction provides details on how you need to perform the task. \n",
    "<ul>\n",
    "<li>Ask the user enter the number of lines he or she wants to view. If the file has fewer lines than the input number, the program should display the entire contents of the file. Otherwise, the program only needs to display the number of lines that the user specified.</li>\n",
    "<li>Ask the user to enter the number of lines he or she wants to view. Using the loop structure, add the file's content in the lines specified by the user to a list. If the file contains fewer lines than the input number, all of the numbers in the file should be added to the list. Finally, your program should reverse all of the numbers in the list and displays them.</li>\n",
    "<li>Handle the following exceptions:</li>\n",
    "<ul>\n",
    "<li>It should handle any exceptions that are raised when the specified filename cannot be found or opened.</li>\n",
    "<li>It should handle any exceptions that are raised when a non-integer value is given as a number of lines.</li>\n",
    "<li>It should handle any exceptions that are raised when the items that are read from the file are not converted to a number.</li>\n",
    "    </ul></ul>\n",
    "    \n",
    "    \n",
    " <br>Here is an example:\n",
    "\n",
    "<b><i>input:</i></b><br/>\n",
    "&nbsp;&nbsp;&nbsp;&nbsp;&nbsp;&nbsp;&nbsp;&nbsp;<span style=\"color:red\">Enter the number of lines you want to see: </span> <span style=\"color:blue\">3</span><br>\n",
    "\n",
    "<b><i>output:</i></b><br/>\n",
    "&nbsp;&nbsp;&nbsp;&nbsp;&nbsp;&nbsp;&nbsp;&nbsp;56845<br>\n",
    "&nbsp;&nbsp;&nbsp;&nbsp;&nbsp;&nbsp;&nbsp;&nbsp;420125<br>\n",
    "&nbsp;&nbsp;&nbsp;&nbsp;&nbsp;&nbsp;&nbsp;&nbsp;795122<br>\n",
    "\n",
    "\n",
    "<b><i>input:</i></b><br/>\n",
    "&nbsp;&nbsp;&nbsp;&nbsp;&nbsp;&nbsp;&nbsp;&nbsp;<span style=\"color:red\">Enter the number of lines you want to see: </span> <span style=\"color:blue\">4</span><br>\n",
    "\n",
    "<b><i>output:</i></b><br/>\n",
    "&nbsp;&nbsp;&nbsp;&nbsp;&nbsp;&nbsp;&nbsp;&nbsp;Reversed numbers are: <br>\n",
    "&nbsp;&nbsp;&nbsp;&nbsp;&nbsp;&nbsp;&nbsp;&nbsp;777541<br>\n",
    "&nbsp;&nbsp;&nbsp;&nbsp;&nbsp;&nbsp;&nbsp;&nbsp;795122<br>\n",
    "&nbsp;&nbsp;&nbsp;&nbsp;&nbsp;&nbsp;&nbsp;&nbsp;420125 <br>\n",
    "&nbsp;&nbsp;&nbsp;&nbsp;&nbsp;&nbsp;&nbsp;&nbsp;56845<br>"
   ]
  },
  {
   "cell_type": "code",
   "execution_count": 7,
   "metadata": {},
   "outputs": [
    {
     "name": "stdout",
     "output_type": "stream",
     "text": [
      "Enter the number of lines you want to see: 4\n",
      "56845\n",
      "420125\n",
      "795122\n",
      "777541\n",
      "Enter the number of lines you want to see: 5\n",
      "Reversed numbers are:\n",
      "45127\n",
      "777541\n",
      "795122\n",
      "420125\n",
      "56845\n"
     ]
    }
   ],
   "source": [
    "def list_old(content, num_lines) :\n",
    "    # list for storing the elements\n",
    "    list_new = []\n",
    "  \n",
    "    ## Iterating through the content\n",
    "    ## Of the file\n",
    "    count = 0\n",
    "    for line in content :\n",
    "        if count == num_lines :\n",
    "            break\n",
    "        \n",
    "        count += 1\n",
    "        list_new.append(int(line))\n",
    "        \n",
    "    return list_new\n",
    "\n",
    "try :\n",
    "    name_file = open('Numbers.txt', 'r')\n",
    "  \n",
    "    # Reading from the file\n",
    "    content = name_file.readlines()\n",
    "    \n",
    "    # for same order\n",
    "    num_lines = int(input(\"Enter the number of lines you want to see: \"))\n",
    "    if num_lines < 0 :\n",
    "        raise Exception(\"Sorry, no numbers below zero\")\n",
    "    list_new = list_old(content, num_lines)\n",
    "    for i in list_new :\n",
    "        print(i)\n",
    "        \n",
    "    # for reverse\n",
    "    num_lines = int(input(\"Enter the number of lines you want to see: \"))\n",
    "    if num_lines < 0 :\n",
    "        raise Exception(\"Sorry, no numbers below zero\")\n",
    "    list_new = list_old(content, num_lines)\n",
    "    list_new.reverse()\n",
    "    print(\"Reversed numbers are:\")\n",
    "    for i in list_new :\n",
    "        print(i)\n",
    "            \n",
    "except IOError:\n",
    "    print(\"file not found\")\n",
    "    \n",
    "except ValueError as varr:\n",
    "    print(varr)\n",
    "\n",
    "except Exception as e:\n",
    "    print(e)\n",
    "\n"
   ]
  },
  {
   "cell_type": "markdown",
   "metadata": {},
   "source": [
    "<b>Q#2</b> Write a program that reads the contents of file `Numbers.txt` into a list.\n",
    "<ul>The program should then ask the user to enter a number. The program should determine whether the number is found by searching for it in the list.If the number is in the list, the program should display a message \"The number is found in the list\". If the number is not in the list, the program should display a message \"The number is not found in the list\".\n",
    "Then the program should display the follwing data:\n",
    "<ul>\n",
    "<li>The lowest number in the list.</li>\n",
    "<li>The highest number in the list.</li>\n",
    "<li>The total of the numbers in the list.</li>\n",
    "<li>The average of the numbers in the list.</li>\n",
    "</ul></ul>\n",
    "\n",
    "<br>Here is an example:\n",
    "\n",
    "<b><i>input:</i></b><br/>\n",
    "&nbsp;&nbsp;&nbsp;&nbsp;&nbsp;&nbsp;&nbsp;&nbsp;<span style=\"color:red\">Enter the number to be checked:</span> <span style=\"color:blue\">15490</span><br>\n",
    "\n",
    "<b><i>output:</i></b><br/>\n",
    "&nbsp;&nbsp;&nbsp;&nbsp;&nbsp;&nbsp;&nbsp;&nbsp;Number 15490 is not found in the list<br>\n",
    "&nbsp;&nbsp;&nbsp;&nbsp;&nbsp;&nbsp;&nbsp;&nbsp;Low: 1350<br>\n",
    "&nbsp;&nbsp;&nbsp;&nbsp;&nbsp;&nbsp;&nbsp;&nbsp;High: 952310<br>\n",
    "&nbsp;&nbsp;&nbsp;&nbsp;&nbsp;&nbsp;&nbsp;&nbsp;Total: 6,116,015<br>\n",
    "&nbsp;&nbsp;&nbsp;&nbsp;&nbsp;&nbsp;&nbsp;&nbsp;Average: 339,778.61<br>"
   ]
  },
  {
   "cell_type": "code",
   "execution_count": 12,
   "metadata": {},
   "outputs": [
    {
     "name": "stdout",
     "output_type": "stream",
     "text": [
      "Enter the number to be checked: 38085\n",
      "The number is found in the list\n",
      "Low:  1350\n",
      "High:  952310\n",
      "Total:  6116015\n",
      "Average:339778.61\n"
     ]
    }
   ],
   "source": [
    "f = open(\"Numbers.txt\",'r')\n",
    "num = list(map(int,f.read().split()))\n",
    "\n",
    "if int(input(\"Enter the number to be checked: \")) in num:\n",
    "        print(\"The number is found in the list\")\n",
    "else:\n",
    "    print(\"The number is not in the list\")\n",
    "    \n",
    "print(\"Low: \",min(num))\n",
    "print(\"High: \",max(num))\n",
    "print(\"Total: \",sum(num))\n",
    "print(f'Average:{sum(num)/len(num):.2f}')\n",
    "\n"
   ]
  },
  {
   "cell_type": "markdown",
   "metadata": {},
   "source": [
    "<b>Q#3</b> Write a program that reads the contents of file `Cities.txt` into a list.The program should ask the user to enter the name of a city, then displays the number of times that the city has been repeated in the list (Tip: keep in mind that the city entered by the user may not be in the list. In this case you need to show that the city was not found). Handle any exceptions that may be raised in the program.\n",
    "\n",
    "\n",
    "<br>Here is an example:\n",
    "\n",
    "<b><i>input:</i></b><br/>\n",
    "&nbsp;&nbsp;&nbsp;&nbsp;&nbsp;&nbsp;&nbsp;&nbsp;<span style=\"color:red\">Enter the name of a city: </span> <span style=\"color:blue\">New York</span><br>\n",
    "\n",
    "\n",
    "\n",
    "<b><i>output:</i></b><br/>\n",
    "&nbsp;&nbsp;&nbsp;&nbsp;&nbsp;&nbsp;&nbsp;&nbsp; New York repeated 26 times in the file.<br>"
   ]
  },
  {
   "cell_type": "code",
   "execution_count": 5,
   "metadata": {},
   "outputs": [
    {
     "name": "stdout",
     "output_type": "stream",
     "text": [
      "What is the name of the city for lookup Boston\n",
      "boston repeated 6 times in files\n"
     ]
    }
   ],
   "source": [
    "try:\n",
    "    infile = open ('Cities.txt', 'r')\n",
    "    nameFile = infile.readlines()\n",
    "    infile.close()\n",
    "    index = 0\n",
    "    count = 0\n",
    "\n",
    "    cityName = input('What is the name of the city for lookup ').lower()\n",
    "\n",
    "    while index < len(nameFile):\n",
    "        nameFile[index] = nameFile[index].rstrip('\\n')\n",
    "        index = index+1\n",
    "    \n",
    "        cities = []\n",
    "    for line in nameFile:\n",
    "            city = line.lower()\n",
    "            cities.append(city)\n",
    "    \n",
    "#print(cities)\n",
    "    for i in range(len(nameFile)):\n",
    "            if cityName in cities[i]:\n",
    "                count = count + 1\n",
    "    print(cityName,\"repeated\",count,\"times in files\")\n",
    "\n",
    "except:\n",
    "    print('City was not found ')"
   ]
  },
  {
   "cell_type": "markdown",
   "metadata": {},
   "source": [
    "<b>Q#4</b> Write a program that reads the contents of file `Cities.txt` into a list. The program should ask the user to enter the names of  two cities. (Tip: Keep in mind that the city#1 entered by the user may not exist in the list. In this case, you must show that city#1 was not found). Then, in the list, replace all occurrences of city #1 with city #2. At the end, show the updated list of cities. Handle any exceptions that may be raised in the program.\n",
    "\n",
    "<br>Here is an example:\n",
    "\n",
    "<b><i>input:</i></b><br/>\n",
    "&nbsp;&nbsp;&nbsp;&nbsp;&nbsp;&nbsp;&nbsp;&nbsp;<span style=\"color:red\">Enter the name of a city #1: </span> <span style=\"color:blue\">New York</span><br>\n",
    "&nbsp;&nbsp;&nbsp;&nbsp;&nbsp;&nbsp;&nbsp;&nbsp;<span style=\"color:red\">Enter the name of a city #2: </span> <span style=\"color:blue\">Dallas</span><br>\n",
    "\n",
    "\n",
    "\n",
    "<b><i>output:</i></b><br/>\n",
    "&nbsp;&nbsp;&nbsp;&nbsp;&nbsp;&nbsp;&nbsp;&nbsp; Here is the revised list:<br> \n",
    "&nbsp;&nbsp;&nbsp;&nbsp;&nbsp;&nbsp;&nbsp;&nbsp;['Boston', 'Dallas', 'Chicago', 'Chicago', 'Chicago', 'Pittsburgh', 'Philadelphia', 'Philadelphia', 'Boston', 'Philadelphia', 'Boston', 'Boston', 'Boston', 'Chicago', 'Boston', 'Cincinnati', 'Cleveland', 'Dallas', 'Dallas', 'Dallas', 'Washington', 'Pittsburgh', 'St. Louis', 'Dallas', 'Dallas', 'Philadelphia', 'Philadelphia', 'St. Louis', 'Dallas', 'Dallas', 'St. Louis', 'Detroit', 'Dallas', 'Dallas', 'New Yotk', 'Dallas', 'Cincinnati', 'Dallas', 'St. Louis', 'Dallas', 'St. Louis', 'Detroit', 'St. Louis', 'Dallas', 'Cleveland', 'Dallas', 'Dallas', 'Dallas', 'Dallas', 'Dallas', 'Dallas', 'Brooklyn', 'Dallas', 'Milwaukee', 'Dallas', 'Los Angeles', 'Pittsburgh', 'Dallas', 'Dallas', 'Los Angeles', 'St. Louis', 'Los Angeles', 'Baltimore', 'St. Louis', 'Detroit', 'Dallas', 'Baltimore', 'Pittsburgh', 'Oakland', 'Oakland', 'Oakland', 'Cincinnati', 'Cincinnati', 'Dallas']<br>"
   ]
  },
  {
   "cell_type": "code",
   "execution_count": 3,
   "metadata": {},
   "outputs": [
    {
     "name": "stdout",
     "output_type": "stream",
     "text": [
      "Enter the name of a city #1:Boston\n",
      "Enter the name of a city #2:New York\n",
      "Here is the revised list:\n",
      "['New York', 'New York', 'Chicago', 'Chicago', 'Chicago', 'Pittsburgh', 'Philadelphia', 'Philadelphia', 'New York', 'Philadelphia', 'New York', 'New York', 'New York', 'Chicago', 'New York', 'Cincinnati', 'Cleveland', 'New York', 'New York', 'New York', 'Washington', 'Pittsburgh', 'St. Louis', 'New York', 'New York', 'Philadelphia', 'Philadelphia', 'St. Louis', 'New York', 'New York', 'St. Louis', 'Detroit', 'New York', 'New York', 'New Yotk', 'New York', 'Cincinnati', 'New York', 'St. Louis', 'New York', 'St. Louis', 'Detroit', 'St. Louis', 'New York', 'Cleveland', 'New York', 'New York', 'New York', 'New York', 'New York', 'New York', 'Brooklyn', 'New York', 'Milwaukee', 'New York', 'Los Angeles', 'Pittsburgh', 'New York', 'New York', 'Los Angeles', 'St. Louis', 'Los Angeles', 'Baltimore', 'St. Louis', 'Detroit', 'New York', 'Baltimore', 'Pittsburgh', 'Oakland', 'Oakland', 'Oakland', 'Cincinnati', 'Cincinnati', 'New York']\n"
     ]
    }
   ],
   "source": [
    "old_city = input(\"Enter the name of a city #1:\")\n",
    "new_city = input(\"Enter the name of a city #2:\")\n",
    "\n",
    "cities =[]\n",
    "\n",
    "with open('Cities.txt', 'r') as f:\n",
    "    cities = f.read().splitlines()\n",
    "\n",
    "if old_city in cities:\n",
    "   \n",
    "    cities = [city.replace(old_city, new_city) \n",
    "              if city==old_city \n",
    "              else city for city in cities]\n",
    "    print(\"Here is the revised list:\")\n",
    "  \n",
    "    print(cities)\n",
    "\n",
    "else:\n",
    "   \n",
    "    print(\"city #1 was not found\")\n",
    "\n",
    "\n"
   ]
  },
  {
   "cell_type": "markdown",
   "metadata": {},
   "source": [
    "<b>Q#5</b> A quiz contains 10 questions. A quiz's correct answers are as follows::\n",
    "<ul>\n",
    "<ol>1.C</ol>\n",
    "<ol>2.A</ol>\n",
    "<ol>3.C</ol>\n",
    "<ol>4.B</ol>\n",
    "<ol>5.D</ol>\n",
    "<ol>6.B</ol>\n",
    "<ol>7.B</ol>\n",
    "<ol>8.C</ol>\n",
    "<ol>9.A</ol>\n",
    "<ol>10.D</ol>\n",
    "</ul>\n",
    "Your program should store all these correct answers in a list. The program asks the user to enter an answer for each question and store it in another list. The program should display a message indicating whether the user passed or failed the quiz. A user must correctly answer 7 of the 10 questions to pass the quiz.) It should then display the total number of correctly answered questions, the total number of incorrectly answered questions, and a list showing the question numbers of the incorrectly answered questions. Handle any exceptions that may be raised in the program.\n",
    "\n",
    "<br>Here is an example:\n",
    "\n",
    "<b><i>input:</i></b><br/>\n",
    "&nbsp;&nbsp;&nbsp;&nbsp;&nbsp;&nbsp;&nbsp;&nbsp;<span style=\"color:red\">Please enter your answer for question 1:</span> <span style=\"color:blue\">B</span><br>\n",
    "&nbsp;&nbsp;&nbsp;&nbsp;&nbsp;&nbsp;&nbsp;&nbsp;<span style=\"color:red\">Please enter your answer for question 2:</span> <span style=\"color:blue\">A</span><br>\n",
    "&nbsp;&nbsp;&nbsp;&nbsp;&nbsp;&nbsp;&nbsp;&nbsp;<span style=\"color:red\">Please enter your answer for question 3:</span> <span style=\"color:blue\">C</span><br>\n",
    "&nbsp;&nbsp;&nbsp;&nbsp;&nbsp;&nbsp;&nbsp;&nbsp;<span style=\"color:red\">Please enter your answer for question 4:</span> <span style=\"color:blue\">D</span><br>\n",
    "&nbsp;&nbsp;&nbsp;&nbsp;&nbsp;&nbsp;&nbsp;&nbsp;<span style=\"color:red\">Please enter your answer for question 5:</span> <span style=\"color:blue\">D</span><br>\n",
    "&nbsp;&nbsp;&nbsp;&nbsp;&nbsp;&nbsp;&nbsp;&nbsp;<span style=\"color:red\">Please enter your answer for question 6:</span> <span style=\"color:blue\">B</span><br>\n",
    "&nbsp;&nbsp;&nbsp;&nbsp;&nbsp;&nbsp;&nbsp;&nbsp;<span style=\"color:red\">Please enter your answer for question 7:</span> <span style=\"color:blue\">A</span><br>\n",
    "&nbsp;&nbsp;&nbsp;&nbsp;&nbsp;&nbsp;&nbsp;&nbsp;<span style=\"color:red\">Please enter your answer for question 8:</span> <span style=\"color:blue\">C</span><br>\n",
    "&nbsp;&nbsp;&nbsp;&nbsp;&nbsp;&nbsp;&nbsp;&nbsp;<span style=\"color:red\">Please enter your answer for question 9:</span> <span style=\"color:blue\">A</span><br>\n",
    "&nbsp;&nbsp;&nbsp;&nbsp;&nbsp;&nbsp;&nbsp;&nbsp;<span style=\"color:red\">Please enter your answer for question 10:</span> <span style=\"color:blue\">D</span><br>\n",
    "\n",
    "<b><i>output:</i></b><br/>\n",
    "&nbsp;&nbsp;&nbsp;&nbsp;&nbsp;&nbsp;&nbsp;&nbsp;You passed the exam.<br>\n",
    "&nbsp;&nbsp;&nbsp;&nbsp;&nbsp;&nbsp;&nbsp;&nbsp;Number of questions you answered correctly: 7<br>\n",
    "&nbsp;&nbsp;&nbsp;&nbsp;&nbsp;&nbsp;&nbsp;&nbsp;Number of questions you answered incorrectly: 3<br>\n",
    "&nbsp;&nbsp;&nbsp;&nbsp;&nbsp;&nbsp;&nbsp;&nbsp;Questions you answered incorrectly:1, 4, 7<br>"
   ]
  },
  {
   "cell_type": "code",
   "execution_count": 19,
   "metadata": {},
   "outputs": [
    {
     "name": "stdout",
     "output_type": "stream",
     "text": [
      "Please enter your answer for question 1: C\n",
      "Please enter your answer for question 2: A\n",
      "Please enter your answer for question 3: c\n",
      "Please enter your answer for question 4: N\n",
      "Please enter your answer for question 5: D\n",
      "Please enter your answer for question 6: B\n",
      "Please enter your answer for question 7: B\n",
      "Please enter your answer for question 8: C\n",
      "Please enter your answer for question 9: A\n",
      "Please enter your answer for question 10: D\n",
      "You passed the exam.\n",
      "Number of questions you answered correctly: 8\n",
      "Number of questions you answered incorrectly: 2\n",
      "Questions you answered incorrectly: 3, 4"
     ]
    }
   ],
   "source": [
    "answerList = ['C', 'A', 'C', 'B', 'D', 'B', 'B', 'C', 'A', 'D']\n",
    "answers = []\n",
    "correctAnswers = 0\n",
    "incorrectAnswersList = []\n",
    "for i in range(1, 11):\n",
    "    print(\"Please enter your answer for question {}: \".format(i), end=\"\")\n",
    "    ans = input()\n",
    "    answers.append(ans)\n",
    "\n",
    "for i in range(0, 10):\n",
    "    if answerList[i] == answers[i]:\n",
    "        correctAnswers = correctAnswers + 1\n",
    "    else:\n",
    "        incorrectAnswersList.append(i+1)\n",
    "if correctAnswers >= 7:\n",
    "    print(\"You passed the exam.\")\n",
    "else:\n",
    "    print(\"You failed the exam.\")\n",
    "print(\"Number of questions you answered correctly: \"+str(correctAnswers))\n",
    "print(\"Number of questions you answered incorrectly: \"+str(10 - correctAnswers))\n",
    "print(\"Questions you answered incorrectly: \", end=\"\")\n",
    "i = 0\n",
    "while i < len(incorrectAnswersList)-1:\n",
    "    print(incorrectAnswersList[i], end=\", \")\n",
    "    i = i + 1\n",
    "print(incorrectAnswersList[i], end=\"\")\n",
    "\n"
   ]
  },
  {
   "cell_type": "markdown",
   "metadata": {},
   "source": [
    "<b> Q#6</b> Write a program that collects information about the user's top three favorite movies. The program should collect the titles of the movies as well as the year they were released. The program should create a tuple for each movie in the following format: ('movie name', 'production year'), and then add all of the tuples to a list. Finally, the program should display the title of the movie with the most recent production year. (Tip: If two movies were made in the same year, the program should only display one of them.)\n",
    "\n",
    "\n",
    "<br>Here is an example:\n",
    "\n",
    "<b><i>input:</i></b><br/>\n",
    "&nbsp;&nbsp;&nbsp;&nbsp;&nbsp;&nbsp;&nbsp;&nbsp;<span style=\"color:red\">Please enter the name of your favorite movie: </span> <span style=\"color:blue\">The Godfather</span><br>\n",
    "&nbsp;&nbsp;&nbsp;&nbsp;&nbsp;&nbsp;&nbsp;&nbsp;<span style=\"color:red\">Please enter the year that the movie was produced:</span> <span style=\"color:blue\">1974</span><br>\n",
    "&nbsp;&nbsp;&nbsp;&nbsp;&nbsp;&nbsp;&nbsp;&nbsp;<span style=\"color:red\">Please enter the name of your favorite movie: </span> <span style=\"color:blue\">Inception</span><br>\n",
    "&nbsp;&nbsp;&nbsp;&nbsp;&nbsp;&nbsp;&nbsp;&nbsp;<span style=\"color:red\">Please enter the year that the movie was produced:</span> <span style=\"color:blue\">2010</span><br>\n",
    "&nbsp;&nbsp;&nbsp;&nbsp;&nbsp;&nbsp;&nbsp;&nbsp;<span style=\"color:red\">Please enter the name of your favorite movie: </span> <span style=\"color:blue\">The Lord Of The Rings</span><br>\n",
    "&nbsp;&nbsp;&nbsp;&nbsp;&nbsp;&nbsp;&nbsp;&nbsp;<span style=\"color:red\">Please enter the year that the movie was produced:</span> <span style=\"color:blue\">2002</span><br>\n",
    "\n",
    "\n",
    "<b><i>output:</i></b><br/>\n",
    "&nbsp;&nbsp;&nbsp;&nbsp;&nbsp;&nbsp;&nbsp;&nbsp;[('The Godfather', '1974'), ('Inception', '2010'), ('The Lord Of The Rings', '2002')]<br>\n",
    "&nbsp;&nbsp;&nbsp;&nbsp;&nbsp;&nbsp;&nbsp;&nbsp;the most recen movie in the list is  Inception<br>"
   ]
  },
  {
   "cell_type": "code",
   "execution_count": 14,
   "metadata": {},
   "outputs": [
    {
     "name": "stdout",
     "output_type": "stream",
     "text": [
      "Please enter the name of your favorite movie: Alice in Wonderland\n",
      "Please enter the year that the movie was produced: 2010\n",
      "Please enter the name of your favorite movie: Princes and Frog\n",
      "Please enter the year that the movie was produced: 2010\n",
      "Please enter the name of your favorite movie: The Godfather\n",
      "Please enter the year that the movie was produced: 1974\n",
      "Please enter the name of your favorite movie: Lord Of The Rings\n",
      "Please enter the year that the movie was produced: 2002\n",
      "[('Alice in Wonderland', '2010'), ('The Godfather', '1974'), ('Lord Of The Rings', '2002')]\n",
      "the most recent movie in the list is  Alice in Wonderland\n"
     ]
    }
   ],
   "source": [
    "tuplex = ()\n",
    "listNew = []\n",
    "while(len(listNew)<3):\n",
    "    movieName = input(\"Please enter the name of your favorite movie: \")\n",
    "    year = input(\"Please enter the year that the movie was produced: \")\n",
    "    tuplex = (movieName,year)\n",
    "    listNew.append(tuplex)\n",
    "    count = 0\n",
    "    for j in listNew:\n",
    "        if(j[1] == year):\n",
    "            count = count+1\n",
    "            if(count > 1):\n",
    "                listNew.remove(tuplex)\n",
    "                break\n",
    "print(listNew)\n",
    "\n",
    "maxyear = listNew[0][1]\n",
    "maxMovie = listNew[0][0]\n",
    "for i in listNew:\n",
    "    if(maxyear<i[1]):\n",
    "        maxMovie = i[0]\n",
    "        maxyear = i[1]\n",
    "      \n",
    "print('the most recent movie in the list is ',maxMovie)\n",
    "\n",
    "\n"
   ]
  }
 ],
 "metadata": {
  "kernelspec": {
   "display_name": "Python 3",
   "language": "python",
   "name": "python3"
  },
  "language_info": {
   "codemirror_mode": {
    "name": "ipython",
    "version": 3
   },
   "file_extension": ".py",
   "mimetype": "text/x-python",
   "name": "python",
   "nbconvert_exporter": "python",
   "pygments_lexer": "ipython3",
   "version": "3.8.8"
  }
 },
 "nbformat": 4,
 "nbformat_minor": 2
}
